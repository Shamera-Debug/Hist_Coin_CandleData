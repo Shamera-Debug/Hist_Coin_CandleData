{
 "cells": [
  {
   "cell_type": "markdown",
   "metadata": {},
   "source": [
    "# 개별 csv 저장"
   ]
  },
  {
   "cell_type": "code",
   "execution_count": null,
   "metadata": {},
   "outputs": [],
   "source": [
    "# 각각의 종목별 차트 데이터 수집\n",
    "\n",
    "\n",
    "api_key = ''\n",
    "api_secret = ''\n",
    "\n",
    "from datetime import datetime\n",
    "import pandas as pd\n",
    "\n",
    "COLUMNS = ['open_time', 'open', 'high', 'low', 'close', 'volume', 'close_time', 'quote_av', 'trades', \n",
    "                   'tb_base_av', 'tb_quote_av', 'ignore']\n",
    "\n",
    "\n",
    "from binance.client import Client\n",
    "client = Client(api_key=api_key, api_secret=api_secret)\n",
    "\n",
    "def get_data(start_date, end_date, symbol):\n",
    "    data = []\n",
    "    \n",
    "    data = client.futures_historical_klines(\n",
    "            symbol=symbol,\n",
    "            interval='1m',\n",
    "            start_str=start_date,\n",
    "            end_str=end_date\n",
    "        )\n",
    "    \n",
    "    # 전처리\n",
    "    df = pd.DataFrame(data)\n",
    "    df.columns = COLUMNS\n",
    "    df['open_time'] = df.apply(lambda x:datetime.fromtimestamp(x['open_time'] // 1000), axis=1)\n",
    "    df = df.drop(columns = ['close_time', 'ignore'])\n",
    "    df['symbol'] = symbol\n",
    "    df.loc[:, 'open':'tb_quote_av'] = df.loc[:, 'open':'tb_quote_av'].astype(float)  # string to float\n",
    "    df['trades'] = df['trades'].astype(int)\n",
    "    return df\n",
    "\n",
    "start_date = '2024-01-14'\n",
    "end_date = '2024-01-15'\n",
    "symbols = [\n",
    "    'BTCUSDT', 'ETHUSDT', 'SOLUSDT', 'TRBUSDT', 'LINKUSDT', 'BNBUSDT',\n",
    "    'AVAXUSDT', 'MATICUSDT', 'XRPUSDT', 'ETCUSDT', 'FILUSDT', 'DOGEUSDT',\n",
    "    'NEARUSDT', 'ADAUSDT', 'LTCUSDT', 'BCHUSDT', 'FTMUSDT', 'ATOMUSDT',\n",
    "    'EOSUSDT', 'RUNEUSDT', 'CRVUSDT', 'UNIUSDT', 'TRXUSDT', 'MKRUSDT',\n",
    "    'XTZUSDT', 'EGLDUSDT', 'ALGOUSDT', 'XMRUSDT', 'NEOUSDT', 'COMPUSDT',\n",
    "    'THETAUSDT', 'SNXUSDT', 'XLMUSDT', 'ZILUSDT'\n",
    "]\n",
    "for i in symbols:\n",
    "    df = get_data(start_date=start_date, end_date=end_date, symbol=i)\n",
    "    df.to_csv(f'D:\\csv\\hist_coin_data\\{i}.csv', index=False)"
   ]
  }
 ],
 "metadata": {
  "language_info": {
   "name": "python"
  }
 },
 "nbformat": 4,
 "nbformat_minor": 2
}
